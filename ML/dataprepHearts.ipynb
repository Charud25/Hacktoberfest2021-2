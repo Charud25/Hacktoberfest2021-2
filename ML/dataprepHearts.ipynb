"""
We first download the Hearts.csv from Kaggle and then perform following operation on given dataset:
    a)Find Shape of Data
    b)Find Missing Values
    c)Find data type of each column
    d)Finding out Zero's
    e)Find Mean age ofpatients
    f)Now extract only Age, Sex, ChestPain, RestBP, Chol. Randomly divide dataset in training (75%) and testing (25%).
"""
import pandas as pd
df = pd.read_csv('Heart.csv')
df

"""
<class 'pandas.core.frame.DataFrame'>
RangeIndex: 303 entries, 0 to 302
Data columns (total 15 columns):
 # Column Non-Null Count Dtype
--- ------ -------------- -----
 0 Unnamed: 0 303 non-null int64
 1 Age 303 non-null int64
 2 Sex 303 non-null int64
 3 ChestPain 303 non-null object
 4 RestBP 303 non-null int64
 5 Chol 303 non-null int64
 6 Fbs 303 non-null int64
 7 RestECG 303 non-null int64
 8 MaxHR 303 non-null int64
 9 ExAng 303 non-null int64
 10 Oldpeak 303 non-null float64
 11 Slope 303 non-null int64
 12 Ca 299 non-null float64
 13 Thal 301 non-null object
 14 AHD 303 non-null object
dtypes: float64(2), int64(10), object(3)
memory usage: 35.6+ KB
"""

df.shape #(303,15)

pd.isnull(df["Age"])
df.isna().sum() #here we got to know that column ca has 4 null values and Thal has 2 null values

#d) Finding out Zero's
(df==0).sum()

#e) Find Mean age of patients
print('Mean age of patients is ',df["Age"].mean(),' years')

#f) Now extract only Age, Sex, ChestPain, RestBP, Chol. Randomly divide dataset in training (75%) and testing
df1 = df[["Age","Sex","ChestPain","RestBP","Chol"]] #age sex independent variables
df1

from sklearn.model_selection import train_test_split
train, test = train_test_split(df1,test_size=0.25,train_size=0.75)
In [ ]:
duplicate = df[df.duplicated()]
duplicate

x = df[df['AHD'] == 'Yes']
x

print("Minimum age having heart disease",x["Age"].min(),"years")
print("Maximum age having heart disease",x["Age"].max())

